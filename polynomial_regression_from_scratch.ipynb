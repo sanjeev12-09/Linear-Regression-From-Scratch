{
  "nbformat": 4,
  "nbformat_minor": 0,
  "metadata": {
    "colab": {
      "name": "polynomial regression from scratch.ipynb",
      "provenance": [],
      "collapsed_sections": [],
      "authorship_tag": "ABX9TyOyxmKlZj6BGfXxo1ZKc4Qe",
      "include_colab_link": true
    },
    "kernelspec": {
      "name": "python3",
      "display_name": "Python 3"
    },
    "language_info": {
      "name": "python"
    }
  },
  "cells": [
    {
      "cell_type": "markdown",
      "metadata": {
        "id": "view-in-github",
        "colab_type": "text"
      },
      "source": [
        "<a href=\"https://colab.research.google.com/github/sanjeev12-09/Polynomial-Regression-From-Scratch/blob/main/polynomial_regression_from_scratch.ipynb\" target=\"_parent\"><img src=\"https://colab.research.google.com/assets/colab-badge.svg\" alt=\"Open In Colab\"/></a>"
      ]
    },
    {
      "cell_type": "markdown",
      "source": [
        "\n",
        "# Importing Libraries\n",
        "\n"
      ],
      "metadata": {
        "id": "O3EEe-7p4rbP"
      }
    },
    {
      "cell_type": "code",
      "source": [
        "from IPython.display import display,Math,Latex\n",
        "\n",
        "import numpy as np\n",
        "import matplotlib.pyplot as plt\n",
        "import seaborn as sns\n",
        "\n",
        "%matplotlib inline"
      ],
      "metadata": {
        "id": "eIPiRIvm4rEW"
      },
      "execution_count": null,
      "outputs": []
    },
    {
      "cell_type": "markdown",
      "source": [
        "# LinReg class"
      ],
      "metadata": {
        "id": "hysFrmY1IAMx"
      }
    },
    {
      "cell_type": "code",
      "execution_count": null,
      "metadata": {
        "id": "pwvAdLYL3TlW"
      },
      "outputs": [],
      "source": [
        "class LinReg(object):\n",
        "\n",
        "  def __init__(self):\n",
        "    self.t0=200\n",
        "    self.t1=1000\n",
        "\n",
        "  def predict(self, X:np.ndarray) -> np.ndarray:\n",
        "    y= X @ self.w\n",
        "    return y \n",
        "\n",
        "  def loss(self, X:np.ndarray,y:np.ndarray) -> float:\n",
        "    e= y - self.predict(X)\n",
        "    return 1/2 * (np.transpose(e) @ e) \n",
        "\n",
        "  def rmse(self, X:np.ndarray , y:np.ndarray) -> float:\n",
        "    return np.sqrt((2/X.shape[0]) * self.loss(X,y))\n",
        "\n",
        "  def fit(self, X:np.ndarray , y:np.ndarray) -> np.ndarray:\n",
        "    self.w = np.zeros((X.shape))\n",
        "    eye = np.eye(np.size(X, 1))\n",
        "    self.w = np.linalg.pinv(X) @ y \n",
        "    return self.w\n",
        "\n",
        "  def calculate_gradient(self, X:np.ndarray , y:np.ndarray) -> np.ndarray:\n",
        "    return np.transpose(X) @ (self.predict(X)-y) \n",
        "\n",
        "  def update_weights(self, grad:np.ndarray , lr:float) -> np.ndarray:\n",
        "    return self.w - lr*grad\n",
        "\n",
        "  def learning_schedule(self,t):\n",
        "    return self.t0/(t + self.t1)\n",
        "\n",
        "  def gd(self, X:np.ndarray , y:np.ndarray, num_epochs:int, lr:float) -> np.ndarray:\n",
        "    self.w = np.zeros((X.shape[1]))\n",
        "    self.w_all = []\n",
        "    self.err_all = []\n",
        "    for i in np.arange(0, num_epochs):\n",
        "      dJdW = self.calculate_gradient(X, y)\n",
        "      self.w_all.append(self.w)\n",
        "      self.err_all.append(self.loss(x,y))\n",
        "      self.w=self.update_weights(dJdW, lr)\n",
        "\n",
        "    return self.w\n",
        "\n",
        "  def mbgd(self, X:np.ndarray , y:np.ndarray, num_epochs:int, lr:float) -> np.ndarray:\n",
        "    self.w = np.zeros((X.shape[1]))\n",
        "    self.w_all = []\n",
        "    self.err_all = []\n",
        "    mini_batch_id = 0\n",
        "    for epoch in range(num_epochs):\n",
        "      shuffled_indices = np.random.permutation(X.shape[0])\n",
        "      X_shuffled = X[shuffled_indices]\n",
        "      y_shuffled = y[shuffled_indices]\n",
        "      for i in range(0, X.shape[0], batch_size):\n",
        "        mini_batch_id += 1\n",
        "        xi = X_shuffled[i:i+batch_size]\n",
        "        yi = y_shuffled[i:i+batch_size]\n",
        "\n",
        "        self.w_all.append(self.w)\n",
        "        self.err_all.append(self.loss(xi , yi))\n",
        "        dJdW = 2/batch_size * self.calculate_gradient(xi, yi)\n",
        "        self.w = self.update_weights(dJdw, self.learning_schedule(mini_batch_id))\n",
        "\n",
        "    return self.w\n",
        "\n",
        "  def sgd(self, X:np.ndarray , y:np.ndarray, num_epochs:int, lr:float) -> np.ndarray:\n",
        "    self.w = np.zeros((X.shape[1]))\n",
        "    self.w_all = []\n",
        "    self.err_all = []\n",
        "    for epoch in range(num_epochs):\n",
        "      for i in range(X.shape[0]):\n",
        "        random_index = np.random.randint(X[0])\n",
        "        xi = X[random_index : 1+ random_index]\n",
        "        yi = y[random_index : 1+ random_index]\n",
        "\n",
        "        self.w_all.append(self.w)\n",
        "        self.err_all.append(self.loss(xi , yi))\n",
        "\n",
        "        gradients = 2*self.calculate_gradient(xi, yi)\n",
        "        lr = self.learning_schedule(epoch * X.shape[0] + i)\n",
        "        self.w = self.update_weights(gradients , lr)\n",
        "\n",
        "    return self.w\n",
        "\n"
      ]
    },
    {
      "cell_type": "markdown",
      "source": [
        "# Polynomial Regression"
      ],
      "metadata": {
        "id": "cpHTrwA4Iyt3"
      }
    },
    {
      "cell_type": "code",
      "source": [
        "import itertools\n",
        "import functools\n",
        "\n",
        "def get_combinations(x , degree):\n",
        "  return itertools.combinations_with_replacement(x, degree)\n",
        "\n",
        "def compute_new_feature(items):\n",
        "  #reduce(lambda x,y: x*y, [1,2,3,4]) calculate (((1*2)*3)*4)\n",
        "  return functools.reduce(lambda x,y: x*y, items)"
      ],
      "metadata": {
        "id": "MRoJjhZtI7g6"
      },
      "execution_count": null,
      "outputs": []
    },
    {
      "cell_type": "markdown",
      "source": [
        "Lets run few get_combination example"
      ],
      "metadata": {
        "id": "zyDrLF5uMX3M"
      }
    },
    {
      "cell_type": "code",
      "source": [
        "{items: compute_new_feature(items) for items in get_combinations([1,2],2)}"
      ],
      "metadata": {
        "colab": {
          "base_uri": "https://localhost:8080/"
        },
        "id": "N1CtKsnXI7TF",
        "outputId": "9874b38c-1854-4601-9789-bbc62924ea0f"
      },
      "execution_count": null,
      "outputs": [
        {
          "output_type": "execute_result",
          "data": {
            "text/plain": [
              "{(1, 1): 1, (1, 2): 2, (2, 2): 4}"
            ]
          },
          "metadata": {},
          "execution_count": 4
        }
      ]
    },
    {
      "cell_type": "code",
      "source": [
        "{items: compute_new_feature(items) for items in get_combinations([2,4],3)}"
      ],
      "metadata": {
        "colab": {
          "base_uri": "https://localhost:8080/"
        },
        "id": "KkV8SBiaMxNH",
        "outputId": "33320489-02ac-4118-d6d4-2fd413543831"
      },
      "execution_count": null,
      "outputs": [
        {
          "output_type": "execute_result",
          "data": {
            "text/plain": [
              "{(2, 2, 2): 8, (2, 2, 4): 16, (2, 4, 4): 32, (4, 4, 4): 64}"
            ]
          },
          "metadata": {},
          "execution_count": 5
        }
      ]
    },
    {
      "cell_type": "code",
      "source": [
        "len({items: compute_new_feature(items) for items in get_combinations([1,2,3,4,5],4)})\n"
      ],
      "metadata": {
        "colab": {
          "base_uri": "https://localhost:8080/"
        },
        "id": "Ov3WhCAbMxJx",
        "outputId": "0522e5e4-3ab7-44e0-bbb4-a3eb42373de4"
      },
      "execution_count": null,
      "outputs": [
        {
          "output_type": "execute_result",
          "data": {
            "text/plain": [
              "70"
            ]
          },
          "metadata": {},
          "execution_count": 6
        }
      ]
    },
    {
      "cell_type": "code",
      "source": [
        "import itertools\n",
        "import functools\n",
        "import numpy as np\n",
        "\n",
        "def polynomial_transform(x,degree, logging=False):\n",
        "  if x.ndim == 1:\n",
        "    x=x[:, None]\n",
        "\n",
        "  x_t = x.transpose()\n",
        "  features = [np.ones(len(x))]\n",
        "\n",
        "  if logging:\n",
        "    print(\"Input:\", x)\n",
        "  for degree in range(1,degree+1):\n",
        "    for items in get_combinations(x_t, degree):\n",
        "      features.append(compute_new_feature(items))\n",
        "      if logging:\n",
        "        print(items, \":\", compute_new_feature(items))\n",
        "\n",
        "  if logging:\n",
        "    print(np.asarray(features).transpose())\n",
        "\n",
        "  return np.asarray(features).transpose()\n",
        "\n"
      ],
      "metadata": {
        "id": "BTBs8dSLOA5i"
      },
      "execution_count": null,
      "outputs": []
    },
    {
      "cell_type": "code",
      "source": [
        "polynomial_transform(np.array([5]),0, logging=True)"
      ],
      "metadata": {
        "colab": {
          "base_uri": "https://localhost:8080/"
        },
        "id": "SQGVsvW-P_zL",
        "outputId": "0b3a2c4a-cd33-409a-f8d2-acc5cfc2f278"
      },
      "execution_count": null,
      "outputs": [
        {
          "output_type": "stream",
          "name": "stdout",
          "text": [
            "Input: [[5]]\n",
            "[[1.]]\n"
          ]
        },
        {
          "output_type": "execute_result",
          "data": {
            "text/plain": [
              "array([[1.]])"
            ]
          },
          "metadata": {},
          "execution_count": 8
        }
      ]
    },
    {
      "cell_type": "code",
      "source": [
        "polynomial_transform(np.array([1,3]),3, logging=True)"
      ],
      "metadata": {
        "colab": {
          "base_uri": "https://localhost:8080/"
        },
        "id": "1U5E-uK-Ttdh",
        "outputId": "5556c70a-3dfa-44f0-9eec-a7d347dae3b4"
      },
      "execution_count": null,
      "outputs": [
        {
          "output_type": "stream",
          "name": "stdout",
          "text": [
            "Input: [[1]\n",
            " [3]]\n",
            "(array([1, 3]),) : [1 3]\n",
            "(array([1, 3]), array([1, 3])) : [1 9]\n",
            "(array([1, 3]), array([1, 3]), array([1, 3])) : [ 1 27]\n",
            "[[ 1.  1.  1.  1.]\n",
            " [ 1.  3.  9. 27.]]\n"
          ]
        },
        {
          "output_type": "execute_result",
          "data": {
            "text/plain": [
              "array([[ 1.,  1.,  1.,  1.],\n",
              "       [ 1.,  3.,  9., 27.]])"
            ]
          },
          "metadata": {},
          "execution_count": 9
        }
      ]
    },
    {
      "cell_type": "code",
      "source": [
        "polynomial_transform(np.array([[1,2],[7,9]]),2, logging=True)"
      ],
      "metadata": {
        "colab": {
          "base_uri": "https://localhost:8080/"
        },
        "id": "PhrZ41AET2RG",
        "outputId": "5e50e7c1-674c-43fa-8a2e-8d1d74cf9bee"
      },
      "execution_count": null,
      "outputs": [
        {
          "output_type": "stream",
          "name": "stdout",
          "text": [
            "Input: [[1 2]\n",
            " [7 9]]\n",
            "(array([1, 7]),) : [1 7]\n",
            "(array([2, 9]),) : [2 9]\n",
            "(array([1, 7]), array([1, 7])) : [ 1 49]\n",
            "(array([1, 7]), array([2, 9])) : [ 2 63]\n",
            "(array([2, 9]), array([2, 9])) : [ 4 81]\n",
            "[[ 1.  1.  2.  1.  2.  4.]\n",
            " [ 1.  7.  9. 49. 63. 81.]]\n"
          ]
        },
        {
          "output_type": "execute_result",
          "data": {
            "text/plain": [
              "array([[ 1.,  1.,  2.,  1.,  2.,  4.],\n",
              "       [ 1.,  7.,  9., 49., 63., 81.]])"
            ]
          },
          "metadata": {},
          "execution_count": 10
        }
      ]
    },
    {
      "cell_type": "code",
      "source": [
        "polynomial_transform(np.array([[1],[5],[2]]),2, logging=True)"
      ],
      "metadata": {
        "colab": {
          "base_uri": "https://localhost:8080/"
        },
        "id": "qEJH_jr2ULaN",
        "outputId": "cc94aad2-94d0-44c7-88e9-32aeb584bc18"
      },
      "execution_count": null,
      "outputs": [
        {
          "output_type": "stream",
          "name": "stdout",
          "text": [
            "Input: [[1]\n",
            " [5]\n",
            " [2]]\n",
            "(array([1, 5, 2]),) : [1 5 2]\n",
            "(array([1, 5, 2]), array([1, 5, 2])) : [ 1 25  4]\n",
            "[[ 1.  1.  1.]\n",
            " [ 1.  5. 25.]\n",
            " [ 1.  2.  4.]]\n"
          ]
        },
        {
          "output_type": "execute_result",
          "data": {
            "text/plain": [
              "array([[ 1.,  1.,  1.],\n",
              "       [ 1.,  5., 25.],\n",
              "       [ 1.,  2.,  4.]])"
            ]
          },
          "metadata": {},
          "execution_count": 11
        }
      ]
    },
    {
      "cell_type": "markdown",
      "source": [
        "# Non linear data generation "
      ],
      "metadata": {
        "id": "ZqS_41t-USUa"
      }
    },
    {
      "cell_type": "markdown",
      "source": [
        "we generate training data with single feature *x1* and label *y = sin(2πx1) + noise.*"
      ],
      "metadata": {
        "id": "AFEhMdeEUZpV"
      }
    },
    {
      "cell_type": "code",
      "source": [
        "def create_nonlin_training_set(func, sample_size, std):\n",
        "  x = np.linspace(0, 1, sample_size)\n",
        "  y= func(x) + np.random.normal(scale =std, size = x.shape)\n",
        "  return x, y\n",
        "\n",
        "def nonlin(x):\n",
        "  return np.sin(2 * np.pi * x)"
      ],
      "metadata": {
        "id": "Tv66ExvQOr2m"
      },
      "execution_count": null,
      "outputs": []
    },
    {
      "cell_type": "markdown",
      "source": [
        "# Visualization of training data and model fitment"
      ],
      "metadata": {
        "id": "4j03G8lCV5wI"
      }
    },
    {
      "cell_type": "code",
      "source": [
        "def visualize_training_data(X_train, y_train):\n",
        "  points = np.linspace(0,1,100)\n",
        "  output = nonlin(points)\n",
        "\n",
        "  plt.scatter(X_train, y_train, facecolor=\"none\",edgecolor='b',\n",
        "              s=50, label = \"training data\")\n",
        "  plt.plot(points, output, c='g',label = '$\\sin(2\\pi x)$')\n",
        "  plt.xlabel('$x_1$')\n",
        "  plt.ylabel('y')\n",
        "  plt.legend()\n",
        "  plt.show()\n",
        "\n",
        "def visualize_model_fit(X,y,lin_reg,degree):\n",
        "  # plots train model along with data generation function\n",
        "  points = np.linspace(0,1,100)\n",
        "  output = nonlin(points)\n",
        "  \n",
        "  if degree > 0:\n",
        "    plt.scatter(X, y, facecolor=\"none\",edgecolor='b',s=50,\n",
        "                label='training data')\n",
        "    plt.plot(points, output, c='g',label = '$\\sin(2\\pi x)$')\n",
        "\n",
        "    y_hat = lin_reg.predict(polynomial_transform(points, degree))\n",
        "    plt.plot(points, y_hat, c='r', label= '$h_\\mathbf{w} (x)$')\n",
        "    plt.xlabel('$x_1$')\n",
        "    plt.ylabel('y')\n",
        "    plt.ylim(-1.5, 1.5)\n",
        "    plt.title(\"M={}\".format(degree)) # xy = (-0.15, 1)"
      ],
      "metadata": {
        "id": "8r9iHAk1V20o"
      },
      "execution_count": null,
      "outputs": []
    },
    {
      "cell_type": "code",
      "source": [
        "num_samples=50\n",
        "X, y =create_nonlin_training_set(nonlin, num_samples, 0.05)\n",
        "visualize_training_data(X, y)"
      ],
      "metadata": {
        "colab": {
          "base_uri": "https://localhost:8080/",
          "height": 298
        },
        "id": "VulGPxsvbzAi",
        "outputId": "22405c1f-2fac-420f-dfd3-f84f126537f6"
      },
      "execution_count": null,
      "outputs": [
        {
          "output_type": "display_data",
          "data": {
            "image/png": "[encoded data removed]",
            "text/plain": [
              "<Figure size 432x288 with 1 Axes>"
            ]
          },
          "metadata": {
            "needs_background": "light"
          }
        }
      ]
    },
    {
      "cell_type": "markdown",
      "source": [
        "# Polynomial model"
      ],
      "metadata": {
        "id": "BCIU9y0mPZoh"
      }
    },
    {
      "cell_type": "markdown",
      "source": [
        "Lets train a this model on data"
      ],
      "metadata": {
        "id": "dA1wfkRjPgfU"
      }
    },
    {
      "cell_type": "code",
      "source": [
        "degree = 9\n",
        "X_transform = polynomial_transform(X, degree)\n",
        "lin_reg = LinReg()\n",
        "lin_reg.fit(X_transform, y)\n",
        "visualize_model_fit(X, y, lin_reg, degree)"
      ],
      "metadata": {
        "colab": {
          "base_uri": "https://localhost:8080/",
          "height": 318
        },
        "id": "PJqdNUk-PZZ6",
        "outputId": "38b4209f-bb54-40d8-b1b7-5590c7bafe46"
      },
      "execution_count": null,
      "outputs": [
        {
          "output_type": "display_data",
          "data": {
            "image/png": "[encoded data removed]",
            "text/plain": [
              "<Figure size 432x288 with 1 Axes>"
            ]
          },
          "metadata": {
            "needs_background": "light"
          }
        }
      ]
    },
    {
      "cell_type": "markdown",
      "source": [
        "Lets train multiple polynomial regression with different degrees."
      ],
      "metadata": {
        "id": "Q2Jpf0lcS1d1"
      }
    },
    {
      "cell_type": "code",
      "source": [
        "f = plt.figure(figsize=(12,8))\n",
        "sns.set_context(\"notebook\", font_scale = 1.5, rc ={\"lines.linewidth\" : 2.5})\n",
        "\n",
        "for i, degree in enumerate([0,1,3,5,7,9]):\n",
        "  plt.subplot(3,3,i+1)\n",
        "  X_transform = polynomial_transform(X, degree)\n",
        "  lin_reg = LinReg()\n",
        "  lin_reg.fit(X_transform, y)\n",
        "  visualize_model_fit(X, y, lin_reg, degree)\n",
        "\n",
        "f.tight_layout()\n",
        "plt.legend(bbox_to_anchor=(1.05,0.64), loc=2, borderaxespad = 0.)\n",
        "plt.show()"
      ],
      "metadata": {
        "colab": {
          "base_uri": "https://localhost:8080/",
          "height": 415
        },
        "id": "FKX1_kkSSvFR",
        "outputId": "6cc97d58-d198-47e5-85a1-2d564da1910a"
      },
      "execution_count": null,
      "outputs": [
        {
          "output_type": "display_data",
          "data": {
            "image/png": "[encoded data removed]",
            "text/plain": [
              "<Figure size 864x576 with 6 Axes>"
            ]
          },
          "metadata": {
            "needs_background": "light"
          }
        }
      ]
    },
    {
      "cell_type": "markdown",
      "source": [
        "# Model selection"
      ],
      "metadata": {
        "id": "Y34thLMnX-_X"
      }
    },
    {
      "cell_type": "markdown",
      "source": [
        "* one polynomial model per degree. which one to select?\n",
        "* process\n",
        "   * Fix the degree that yoy want toexperiment with.\n",
        "   * divide the training data into training, validation and test test.\n",
        "   * For each degree m :\n",
        "\n",
        "        * Training polynomial regression model with training data\n",
        "\n",
        "        * calculate training and validation error on trained model.\n",
        "\n",
        "Select the model with lowest training and validation loss among all models."
      ],
      "metadata": {
        "id": "QuE9IolsYHoz"
      }
    },
    {
      "cell_type": "code",
      "source": [
        "import pandas as pd\n",
        "\n",
        "def convert_dict_to_df(w_dict, degree):\n",
        "  poly_w_dict = {i:np.array(np.zeros(degree)) for i in range(degree)}\n",
        "  for deg in poly_w_dict:\n",
        "    weight_vec = w_dict[deg]\n",
        "    for i in range(len(weight_vec)):\n",
        "      poly_w_dict[deg][i] = weight_vec[i]\n",
        "\n",
        "  poly_w_df = pd.DataFrame(poly_w_dict)\n",
        "  poly_w_df.columns = ['w_'+str(i) for i in range(degree)]\n",
        "  return poly_w_df\n",
        "\n",
        "def plot_model_selection(training_errors, val_score):\n",
        "  plt.plot(training_errors, 'o-', mfc= 'none', mec= \"b\", ms=10 , c='b')\n",
        "  plt.plot(val_errors, 'o-', mfc= 'none', mec= \"b\", ms=10, c='r')\n",
        "  plt.legend()\n",
        "  plt.xlabel('degree')\n",
        "  plt.ylabel('RMSE')\n",
        "  plt.show()"
      ],
      "metadata": {
        "id": "pM__e7swX-0M"
      },
      "execution_count": null,
      "outputs": []
    },
    {
      "cell_type": "code",
      "source": [
        "training_errors =[]\n",
        "val_errors = []\n",
        "w_dict = {}\n",
        "\n",
        "X_val = np.linspace(0,1,100)\n",
        "y_val = nonlin(X_val)\n",
        "\n",
        "for i in range(10):\n",
        "  X_transform = polynomial_transform(X, i)\n",
        "  X_val_transform = polynomial_transform(X_val, i)\n",
        "  lin_reg = LinReg()\n",
        "  lin_reg.fit(X_transform, y)\n",
        "\n",
        "  w_dict[i] = lin_reg.w\n",
        "  training_errors.append(lin_reg.rmse(X_transform, y))\n",
        "  val_errors.append(lin_reg.rmse(X_val_transform, y_val+np.random.normal(scale=0.25, size = len(y_val))))\n",
        "\n",
        "plot_model_selection(training_errors , val_errors)\n",
        "convert_dict_to_df(w_dict, 10)"
      ],
      "metadata": {
        "colab": {
          "base_uri": "https://localhost:8080/",
          "height": 661
        },
        "id": "knUQvEgPX-uA",
        "outputId": "c2261f3e-7e21-46b9-a8d9-4f5de8b63fa7"
      },
      "execution_count": null,
      "outputs": [
        {
          "output_type": "stream",
          "name": "stderr",
          "text": [
            "No handles with labels found to put in legend.\n"
          ]
        },
        {
          "output_type": "display_data",
          "data": {
            "image/png": "[encoded data removed]",
            "text/plain": [
              "<Figure size 432x288 with 1 Axes>"
            ]
          },
          "metadata": {
            "needs_background": "light"
          }
        },
        {
          "output_type": "execute_result",
          "data": {
            "text/html": [
              "\n",
              "  <div id=\"df-2b4d992c-df15-4bee-9dff-e01ceed552d7\">\n",
              "    <div class=\"colab-df-container\">\n",
              "      <div>\n",
              "<style scoped>\n",
              "    .dataframe tbody tr th:only-of-type {\n",
              "        vertical-align: middle;\n",
              "    }\n",
              "\n",
              "    .dataframe tbody tr th {\n",
              "        vertical-align: top;\n",
              "    }\n",
              "\n",
              "    .dataframe thead th {\n",
              "        text-align: right;\n",
              "    }\n",
              "</style>\n",
              "<table border=\"1\" class=\"dataframe\">\n",
              "  <thead>\n",
              "    <tr style=\"text-align: right;\">\n",
              "      <th></th>\n",
              "      <th>w_0</th>\n",
              "      <th>w_1</th>\n",
              "      <th>w_2</th>\n",
              "      <th>w_3</th>\n",
              "      <th>w_4</th>\n",
              "      <th>w_5</th>\n",
              "      <th>w_6</th>\n",
              "      <th>w_7</th>\n",
              "      <th>w_8</th>\n",
              "      <th>w_9</th>\n",
              "    </tr>\n",
              "  </thead>\n",
              "  <tbody>\n",
              "    <tr>\n",
              "      <th>0</th>\n",
              "      <td>-0.004985</td>\n",
              "      <td>0.889783</td>\n",
              "      <td>0.878668</td>\n",
              "      <td>-0.198692</td>\n",
              "      <td>-0.204674</td>\n",
              "      <td>-0.052504</td>\n",
              "      <td>-0.092370</td>\n",
              "      <td>-0.104511</td>\n",
              "      <td>-0.075364</td>\n",
              "      <td>-0.091770</td>\n",
              "    </tr>\n",
              "    <tr>\n",
              "      <th>1</th>\n",
              "      <td>0.000000</td>\n",
              "      <td>-1.789534</td>\n",
              "      <td>-1.721457</td>\n",
              "      <td>11.899310</td>\n",
              "      <td>12.030937</td>\n",
              "      <td>6.718793</td>\n",
              "      <td>8.809269</td>\n",
              "      <td>9.734814</td>\n",
              "      <td>6.561545</td>\n",
              "      <td>9.095044</td>\n",
              "    </tr>\n",
              "    <tr>\n",
              "      <th>2</th>\n",
              "      <td>0.000000</td>\n",
              "      <td>0.000000</td>\n",
              "      <td>-0.068077</td>\n",
              "      <td>-34.466220</td>\n",
              "      <td>-35.072581</td>\n",
              "      <td>3.619598</td>\n",
              "      <td>-18.550176</td>\n",
              "      <td>-32.086648</td>\n",
              "      <td>29.476817</td>\n",
              "      <td>-33.812144</td>\n",
              "    </tr>\n",
              "    <tr>\n",
              "      <th>3</th>\n",
              "      <td>0.000000</td>\n",
              "      <td>0.000000</td>\n",
              "      <td>0.000000</td>\n",
              "      <td>22.932095</td>\n",
              "      <td>23.881562</td>\n",
              "      <td>-80.809123</td>\n",
              "      <td>9.990640</td>\n",
              "      <td>87.761027</td>\n",
              "      <td>-384.015629</td>\n",
              "      <td>239.756098</td>\n",
              "    </tr>\n",
              "    <tr>\n",
              "      <th>4</th>\n",
              "      <td>0.000000</td>\n",
              "      <td>0.000000</td>\n",
              "      <td>0.000000</td>\n",
              "      <td>0.000000</td>\n",
              "      <td>-0.474733</td>\n",
              "      <td>117.869115</td>\n",
              "      <td>-54.133686</td>\n",
              "      <td>-271.482724</td>\n",
              "      <td>1537.502777</td>\n",
              "      <td>-1590.722268</td>\n",
              "    </tr>\n",
              "    <tr>\n",
              "      <th>5</th>\n",
              "      <td>0.000000</td>\n",
              "      <td>0.000000</td>\n",
              "      <td>0.000000</td>\n",
              "      <td>0.000000</td>\n",
              "      <td>0.000000</td>\n",
              "      <td>-47.337539</td>\n",
              "      <td>104.585965</td>\n",
              "      <td>419.985439</td>\n",
              "      <td>-3387.429422</td>\n",
              "      <td>5511.809968</td>\n",
              "    </tr>\n",
              "    <tr>\n",
              "      <th>6</th>\n",
              "      <td>0.000000</td>\n",
              "      <td>0.000000</td>\n",
              "      <td>0.000000</td>\n",
              "      <td>0.000000</td>\n",
              "      <td>0.000000</td>\n",
              "      <td>0.000000</td>\n",
              "      <td>-50.641168</td>\n",
              "      <td>-279.101027</td>\n",
              "      <td>4189.534349</td>\n",
              "      <td>-10776.300286</td>\n",
              "    </tr>\n",
              "    <tr>\n",
              "      <th>7</th>\n",
              "      <td>0.000000</td>\n",
              "      <td>0.000000</td>\n",
              "      <td>0.000000</td>\n",
              "      <td>0.000000</td>\n",
              "      <td>0.000000</td>\n",
              "      <td>0.000000</td>\n",
              "      <td>0.000000</td>\n",
              "      <td>65.274245</td>\n",
              "      <td>-2677.151831</td>\n",
              "      <td>12052.922725</td>\n",
              "    </tr>\n",
              "    <tr>\n",
              "      <th>8</th>\n",
              "      <td>0.000000</td>\n",
              "      <td>0.000000</td>\n",
              "      <td>0.000000</td>\n",
              "      <td>0.000000</td>\n",
              "      <td>0.000000</td>\n",
              "      <td>0.000000</td>\n",
              "      <td>0.000000</td>\n",
              "      <td>0.000000</td>\n",
              "      <td>685.606519</td>\n",
              "      <td>-7154.984834</td>\n",
              "    </tr>\n",
              "    <tr>\n",
              "      <th>9</th>\n",
              "      <td>0.000000</td>\n",
              "      <td>0.000000</td>\n",
              "      <td>0.000000</td>\n",
              "      <td>0.000000</td>\n",
              "      <td>0.000000</td>\n",
              "      <td>0.000000</td>\n",
              "      <td>0.000000</td>\n",
              "      <td>0.000000</td>\n",
              "      <td>0.000000</td>\n",
              "      <td>1742.353634</td>\n",
              "    </tr>\n",
              "  </tbody>\n",
              "</table>\n",
              "</div>\n",
              "      <button class=\"colab-df-convert\" onclick=\"convertToInteractive('df-2b4d992c-df15-4bee-9dff-e01ceed552d7')\"\n",
              "              title=\"Convert this dataframe to an interactive table.\"\n",
              "              style=\"display:none;\">\n",
              "        \n",
              "  <svg xmlns=\"http://www.w3.org/2000/svg\" height=\"24px\"viewBox=\"0 0 24 24\"\n",
              "       width=\"24px\">\n",
              "    <path d=\"M0 0h24v24H0V0z\" fill=\"none\"/>\n",
              "    <path d=\"M18.56 5.44l.94 2.06.94-2.06 2.06-.94-2.06-.94-.94-2.06-.94 2.06-2.06.94zm-11 1L8.5 8.5l.94-2.06 2.06-.94-2.06-.94L8.5 2.5l-.94 2.06-2.06.94zm10 10l.94 2.06.94-2.06 2.06-.94-2.06-.94-.94-2.06-.94 2.06-2.06.94z\"/><path d=\"M17.41 7.96l-1.37-1.37c-.4-.4-.92-.59-1.43-.59-.52 0-1.04.2-1.43.59L10.3 9.45l-7.72 7.72c-.78.78-.78 2.05 0 2.83L4 21.41c.39.39.9.59 1.41.59.51 0 1.02-.2 1.41-.59l7.78-7.78 2.81-2.81c.8-.78.8-2.07 0-2.86zM5.41 20L4 18.59l7.72-7.72 1.47 1.35L5.41 20z\"/>\n",
              "  </svg>\n",
              "      </button>\n",
              "      \n",
              "  <style>\n",
              "    .colab-df-container {\n",
              "      display:flex;\n",
              "      flex-wrap:wrap;\n",
              "      gap: 12px;\n",
              "    }\n",
              "\n",
              "    .colab-df-convert {\n",
              "      background-color: #E8F0FE;\n",
              "      border: none;\n",
              "      border-radius: 50%;\n",
              "      cursor: pointer;\n",
              "      display: none;\n",
              "      fill: #1967D2;\n",
              "      height: 32px;\n",
              "      padding: 0 0 0 0;\n",
              "      width: 32px;\n",
              "    }\n",
              "\n",
              "    .colab-df-convert:hover {\n",
              "      background-color: #E2EBFA;\n",
              "      box-shadow: 0px 1px 2px rgba(60, 64, 67, 0.3), 0px 1px 3px 1px rgba(60, 64, 67, 0.15);\n",
              "      fill: #174EA6;\n",
              "    }\n",
              "\n",
              "    [theme=dark] .colab-df-convert {\n",
              "      background-color: #3B4455;\n",
              "      fill: #D2E3FC;\n",
              "    }\n",
              "\n",
              "    [theme=dark] .colab-df-convert:hover {\n",
              "      background-color: #434B5C;\n",
              "      box-shadow: 0px 1px 3px 1px rgba(0, 0, 0, 0.15);\n",
              "      filter: drop-shadow(0px 1px 2px rgba(0, 0, 0, 0.3));\n",
              "      fill: #FFFFFF;\n",
              "    }\n",
              "  </style>\n",
              "\n",
              "      <script>\n",
              "        const buttonEl =\n",
              "          document.querySelector('#df-2b4d992c-df15-4bee-9dff-e01ceed552d7 button.colab-df-convert');\n",
              "        buttonEl.style.display =\n",
              "          google.colab.kernel.accessAllowed ? 'block' : 'none';\n",
              "\n",
              "        async function convertToInteractive(key) {\n",
              "          const element = document.querySelector('#df-2b4d992c-df15-4bee-9dff-e01ceed552d7');\n",
              "          const dataTable =\n",
              "            await google.colab.kernel.invokeFunction('convertToInteractive',\n",
              "                                                     [key], {});\n",
              "          if (!dataTable) return;\n",
              "\n",
              "          const docLinkHtml = 'Like what you see? Visit the ' +\n",
              "            '<a target=\"_blank\" href=https://colab.research.google.com/notebooks/data_table.ipynb>data table notebook</a>'\n",
              "            + ' to learn more about interactive tables.';\n",
              "          element.innerHTML = '';\n",
              "          dataTable['output_type'] = 'display_data';\n",
              "          await google.colab.output.renderOutput(dataTable, element);\n",
              "          const docLink = document.createElement('div');\n",
              "          docLink.innerHTML = docLinkHtml;\n",
              "          element.appendChild(docLink);\n",
              "        }\n",
              "      </script>\n",
              "    </div>\n",
              "  </div>\n",
              "  "
            ],
            "text/plain": [
              "        w_0       w_1       w_2  ...         w_7          w_8           w_9\n",
              "0 -0.004985  0.889783  0.878668  ...   -0.104511    -0.075364     -0.091770\n",
              "1  0.000000 -1.789534 -1.721457  ...    9.734814     6.561545      9.095044\n",
              "2  0.000000  0.000000 -0.068077  ...  -32.086648    29.476817    -33.812144\n",
              "3  0.000000  0.000000  0.000000  ...   87.761027  -384.015629    239.756098\n",
              "4  0.000000  0.000000  0.000000  ... -271.482724  1537.502777  -1590.722268\n",
              "5  0.000000  0.000000  0.000000  ...  419.985439 -3387.429422   5511.809968\n",
              "6  0.000000  0.000000  0.000000  ... -279.101027  4189.534349 -10776.300286\n",
              "7  0.000000  0.000000  0.000000  ...   65.274245 -2677.151831  12052.922725\n",
              "8  0.000000  0.000000  0.000000  ...    0.000000   685.606519  -7154.984834\n",
              "9  0.000000  0.000000  0.000000  ...    0.000000     0.000000   1742.353634\n",
              "\n",
              "[10 rows x 10 columns]"
            ]
          },
          "metadata": {},
          "execution_count": 18
        }
      ]
    },
    {
      "cell_type": "markdown",
      "source": [
        "# LinReg class with regularization parameter"
      ],
      "metadata": {
        "id": "fMQGMZncJ8TK"
      }
    },
    {
      "cell_type": "code",
      "source": [
        "class LinReg_regularization(object):\n",
        "\n",
        "  def __init__(self):\n",
        "    self.t0=200\n",
        "    self.t1=1000\n",
        "\n",
        "  def predict(self, X:np.ndarray) -> np.ndarray:\n",
        "    y= X @ self.w\n",
        "    return y \n",
        "\n",
        "  def loss(self, X:np.ndarray,y:np.ndarray,reg_rate:float) -> float:\n",
        "    e= y - self.predict(X)\n",
        "    return 1/2 * (np.transpose(e) @ e) + reg_rate/2 *(np.transpose(self.w) @ self.w)\n",
        "\n",
        "  def rmse(self, X:np.ndarray , y:np.ndarray) -> float:\n",
        "    return np.sqrt((2/X.shape[0]) * self.loss(X,y))\n",
        "\n",
        "  def fit(self, X:np.ndarray , y:np.ndarray, reg_rate:float) -> np.ndarray:\n",
        "    self.w = np.zeros((X.shape))\n",
        "    eye = np.eye(np.size(X, 1))\n",
        "    self.w = np.linalg.pinv(\n",
        "        reg_rate * eye + X.T @ X,\n",
        "        X.T @ y) \n",
        "    return self.w\n",
        "\n",
        "  def calculate_gradient(self, X:np.ndarray , y:np.ndarray, reg_rate:float) -> np.ndarray:\n",
        "    return np.transpose(X) @ (self.predict(X)-y) + reg_rate * self.w\n",
        "\n",
        "  def update_weights(self, grad:np.ndarray , lr:float) -> np.ndarray:\n",
        "    return self.w - lr*grad\n",
        "\n",
        "  def learning_schedule(self,t):\n",
        "    return self.t0/(t + self.t1)\n",
        "\n",
        "  def gd(self, X:np.ndarray , y:np.ndarray, num_epochs:int, lr:float) -> np.ndarray:\n",
        "    self.w = np.zeros((X.shape[1]))\n",
        "    self.w_all = []\n",
        "    self.err_all = []\n",
        "    for i in np.arange(0, num_epochs):\n",
        "      dJdW = self.calculate_gradient(X, y)\n",
        "      self.w_all.append(self.w)\n",
        "      self.err_all.append(self.loss(x,y))\n",
        "      self.w=self.update_weights(dJdW, lr)\n",
        "\n",
        "    return self.w\n",
        "\n",
        "  def mbgd(self, X:np.ndarray , y:np.ndarray, num_epochs:int, lr:float) -> np.ndarray:\n",
        "    self.w = np.zeros((X.shape[1]))\n",
        "    self.w_all = []\n",
        "    self.err_all = []\n",
        "    mini_batch_id = 0\n",
        "    for epoch in range(num_epochs):\n",
        "      shuffled_indices = np.random.permutation(X.shape[0])\n",
        "      X_shuffled = X[shuffled_indices]\n",
        "      y_shuffled = y[shuffled_indices]\n",
        "      for i in range(0, X.shape[0], batch_size):\n",
        "        mini_batch_id += 1\n",
        "        xi = X_shuffled[i:i+batch_size]\n",
        "        yi = y_shuffled[i:i+batch_size]\n",
        "\n",
        "        self.w_all.append(self.w)\n",
        "        self.err_all.append(self.loss(xi , yi))\n",
        "        dJdW = 2/batch_size * self.calculate_gradient(xi, yi)\n",
        "        self.w = self.update_weights(dJdw, self.learning_schedule(mini_batch_id))\n",
        "\n",
        "    return self.w\n",
        "\n",
        "  def sgd(self, X:np.ndarray , y:np.ndarray, num_epochs:int, lr:float) -> np.ndarray:\n",
        "    self.w = np.zeros((X.shape[1]))\n",
        "    self.w_all = []\n",
        "    self.err_all = []\n",
        "    for epoch in range(num_epochs):\n",
        "      for i in range(X.shape[0]):\n",
        "        random_index = np.random.randint(X[0])\n",
        "        xi = X[random_index : 1+ random_index]\n",
        "        yi = y[random_index : 1+ random_index]\n",
        "\n",
        "        self.w_all.append(self.w)\n",
        "        self.err_all.append(self.loss(xi , yi))\n",
        "\n",
        "        gradients = 2*self.calculate_gradient(xi, yi)\n",
        "        lr = self.learning_schedule(epoch * X.shape[0] + i)\n",
        "        self.w = self.update_weights(gradients , lr)\n",
        "\n",
        "    return self.w"
      ],
      "metadata": {
        "id": "pKCM0zpLKC3N"
      },
      "execution_count": null,
      "outputs": []
    },
    {
      "cell_type": "markdown",
      "source": [
        "# Ridge regularization"
      ],
      "metadata": {
        "id": "sz0jxFDCM-u_"
      }
    },
    {
      "cell_type": "code",
      "source": [
        "f = plt.figure(figsize=(12,8))\n",
        "sns.set_context(\"notebook\", font_scale = 1.5, rc ={\"lines.linewidth\" : 2.5})\n",
        "\n",
        "for i, degree in enumerate([0,1,3,5,7,9]):\n",
        "  plt.subplot(3,3,i+1)\n",
        "  X_transform = polynomial_transform(X, degree)\n",
        "  lin_reg1 = LinReg_regularization()\n",
        "  lin_reg1.fit(X_transform, y, reg_rate = 0.01)\n",
        "  visualize_model_fit(X, y, lin_reg, degree, reg_rate = 0.01)\n",
        "\n",
        "f.tight_layout()\n",
        "plt.legend(bbox_to_anchor=(1.05,0.64), loc=2, borderaxespad = 0.)\n",
        "plt.show()"
      ],
      "metadata": {
        "id": "hOLXKiqjM-kL"
      },
      "execution_count": null,
      "outputs": []
    },
    {
      "cell_type": "markdown",
      "source": [
        "# Lasso regularization"
      ],
      "metadata": {
        "id": "CYzc30SETI4r"
      }
    },
    {
      "cell_type": "code",
      "source": [
        "from sklearn.linear_model import Lasso\n",
        "\n",
        "reg_rate = 0.01\n",
        "lasso = Lasso(reg_rate)\n",
        "lasso.fit(X_transform, y)\n",
        "\n",
        "lin_reg = LinReg()\n",
        "_ = lin_reg.fit(X_transform, y)"
      ],
      "metadata": {
        "id": "KgogAgCKTHmC"
      },
      "execution_count": null,
      "outputs": []
    },
    {
      "cell_type": "code",
      "source": [
        "pd.DataFrame({'lin_reg' : lin_reg.w , 'Lasso': lasso.coef_})"
      ],
      "metadata": {
        "colab": {
          "base_uri": "https://localhost:8080/",
          "height": 363
        },
        "id": "pyeFHXRTT3uJ",
        "outputId": "7a1abb4e-8ea1-4ec0-91ed-2f8853981d32"
      },
      "execution_count": null,
      "outputs": [
        {
          "output_type": "execute_result",
          "data": {
            "text/html": [
              "\n",
              "  <div id=\"df-71f9157e-086a-4844-9ccc-2ecff99d3704\">\n",
              "    <div class=\"colab-df-container\">\n",
              "      <div>\n",
              "<style scoped>\n",
              "    .dataframe tbody tr th:only-of-type {\n",
              "        vertical-align: middle;\n",
              "    }\n",
              "\n",
              "    .dataframe tbody tr th {\n",
              "        vertical-align: top;\n",
              "    }\n",
              "\n",
              "    .dataframe thead th {\n",
              "        text-align: right;\n",
              "    }\n",
              "</style>\n",
              "<table border=\"1\" class=\"dataframe\">\n",
              "  <thead>\n",
              "    <tr style=\"text-align: right;\">\n",
              "      <th></th>\n",
              "      <th>lin_reg</th>\n",
              "      <th>Lasso</th>\n",
              "    </tr>\n",
              "  </thead>\n",
              "  <tbody>\n",
              "    <tr>\n",
              "      <th>0</th>\n",
              "      <td>0.074092</td>\n",
              "      <td>0.000000</td>\n",
              "    </tr>\n",
              "    <tr>\n",
              "      <th>1</th>\n",
              "      <td>0.256170</td>\n",
              "      <td>-0.000000</td>\n",
              "    </tr>\n",
              "    <tr>\n",
              "      <th>2</th>\n",
              "      <td>119.014575</td>\n",
              "      <td>-2.786437</td>\n",
              "    </tr>\n",
              "    <tr>\n",
              "      <th>3</th>\n",
              "      <td>-1061.935023</td>\n",
              "      <td>-0.000000</td>\n",
              "    </tr>\n",
              "    <tr>\n",
              "      <th>4</th>\n",
              "      <td>4639.260378</td>\n",
              "      <td>-0.000000</td>\n",
              "    </tr>\n",
              "    <tr>\n",
              "      <th>5</th>\n",
              "      <td>-12165.620998</td>\n",
              "      <td>0.000000</td>\n",
              "    </tr>\n",
              "    <tr>\n",
              "      <th>6</th>\n",
              "      <td>19426.411575</td>\n",
              "      <td>0.000000</td>\n",
              "    </tr>\n",
              "    <tr>\n",
              "      <th>7</th>\n",
              "      <td>-18349.006769</td>\n",
              "      <td>0.000000</td>\n",
              "    </tr>\n",
              "    <tr>\n",
              "      <th>8</th>\n",
              "      <td>9416.025821</td>\n",
              "      <td>0.000000</td>\n",
              "    </tr>\n",
              "    <tr>\n",
              "      <th>9</th>\n",
              "      <td>-2024.494335</td>\n",
              "      <td>1.981295</td>\n",
              "    </tr>\n",
              "  </tbody>\n",
              "</table>\n",
              "</div>\n",
              "      <button class=\"colab-df-convert\" onclick=\"convertToInteractive('df-71f9157e-086a-4844-9ccc-2ecff99d3704')\"\n",
              "              title=\"Convert this dataframe to an interactive table.\"\n",
              "              style=\"display:none;\">\n",
              "        \n",
              "  <svg xmlns=\"http://www.w3.org/2000/svg\" height=\"24px\"viewBox=\"0 0 24 24\"\n",
              "       width=\"24px\">\n",
              "    <path d=\"M0 0h24v24H0V0z\" fill=\"none\"/>\n",
              "    <path d=\"M18.56 5.44l.94 2.06.94-2.06 2.06-.94-2.06-.94-.94-2.06-.94 2.06-2.06.94zm-11 1L8.5 8.5l.94-2.06 2.06-.94-2.06-.94L8.5 2.5l-.94 2.06-2.06.94zm10 10l.94 2.06.94-2.06 2.06-.94-2.06-.94-.94-2.06-.94 2.06-2.06.94z\"/><path d=\"M17.41 7.96l-1.37-1.37c-.4-.4-.92-.59-1.43-.59-.52 0-1.04.2-1.43.59L10.3 9.45l-7.72 7.72c-.78.78-.78 2.05 0 2.83L4 21.41c.39.39.9.59 1.41.59.51 0 1.02-.2 1.41-.59l7.78-7.78 2.81-2.81c.8-.78.8-2.07 0-2.86zM5.41 20L4 18.59l7.72-7.72 1.47 1.35L5.41 20z\"/>\n",
              "  </svg>\n",
              "      </button>\n",
              "      \n",
              "  <style>\n",
              "    .colab-df-container {\n",
              "      display:flex;\n",
              "      flex-wrap:wrap;\n",
              "      gap: 12px;\n",
              "    }\n",
              "\n",
              "    .colab-df-convert {\n",
              "      background-color: #E8F0FE;\n",
              "      border: none;\n",
              "      border-radius: 50%;\n",
              "      cursor: pointer;\n",
              "      display: none;\n",
              "      fill: #1967D2;\n",
              "      height: 32px;\n",
              "      padding: 0 0 0 0;\n",
              "      width: 32px;\n",
              "    }\n",
              "\n",
              "    .colab-df-convert:hover {\n",
              "      background-color: #E2EBFA;\n",
              "      box-shadow: 0px 1px 2px rgba(60, 64, 67, 0.3), 0px 1px 3px 1px rgba(60, 64, 67, 0.15);\n",
              "      fill: #174EA6;\n",
              "    }\n",
              "\n",
              "    [theme=dark] .colab-df-convert {\n",
              "      background-color: #3B4455;\n",
              "      fill: #D2E3FC;\n",
              "    }\n",
              "\n",
              "    [theme=dark] .colab-df-convert:hover {\n",
              "      background-color: #434B5C;\n",
              "      box-shadow: 0px 1px 3px 1px rgba(0, 0, 0, 0.15);\n",
              "      filter: drop-shadow(0px 1px 2px rgba(0, 0, 0, 0.3));\n",
              "      fill: #FFFFFF;\n",
              "    }\n",
              "  </style>\n",
              "\n",
              "      <script>\n",
              "        const buttonEl =\n",
              "          document.querySelector('#df-71f9157e-086a-4844-9ccc-2ecff99d3704 button.colab-df-convert');\n",
              "        buttonEl.style.display =\n",
              "          google.colab.kernel.accessAllowed ? 'block' : 'none';\n",
              "\n",
              "        async function convertToInteractive(key) {\n",
              "          const element = document.querySelector('#df-71f9157e-086a-4844-9ccc-2ecff99d3704');\n",
              "          const dataTable =\n",
              "            await google.colab.kernel.invokeFunction('convertToInteractive',\n",
              "                                                     [key], {});\n",
              "          if (!dataTable) return;\n",
              "\n",
              "          const docLinkHtml = 'Like what you see? Visit the ' +\n",
              "            '<a target=\"_blank\" href=https://colab.research.google.com/notebooks/data_table.ipynb>data table notebook</a>'\n",
              "            + ' to learn more about interactive tables.';\n",
              "          element.innerHTML = '';\n",
              "          dataTable['output_type'] = 'display_data';\n",
              "          await google.colab.output.renderOutput(dataTable, element);\n",
              "          const docLink = document.createElement('div');\n",
              "          docLink.innerHTML = docLinkHtml;\n",
              "          element.appendChild(docLink);\n",
              "        }\n",
              "      </script>\n",
              "    </div>\n",
              "  </div>\n",
              "  "
            ],
            "text/plain": [
              "        lin_reg     Lasso\n",
              "0      0.074092  0.000000\n",
              "1      0.256170 -0.000000\n",
              "2    119.014575 -2.786437\n",
              "3  -1061.935023 -0.000000\n",
              "4   4639.260378 -0.000000\n",
              "5 -12165.620998  0.000000\n",
              "6  19426.411575  0.000000\n",
              "7 -18349.006769  0.000000\n",
              "8   9416.025821  0.000000\n",
              "9  -2024.494335  1.981295"
            ]
          },
          "metadata": {},
          "execution_count": 36
        }
      ]
    }
  ]
}